{
 "cells": [
  {
   "cell_type": "markdown",
   "metadata": {},
   "source": [
    "## ner CoNLL2003 bert-large-cased"
   ]
  },
  {
   "cell_type": "markdown",
   "metadata": {},
   "source": [
    "- paper: https://arxiv.org/abs/1810.04805\n",
    "- data: https://github.com/davidsbatista/NER-datasets/tree/master/CONLL2003\n",
    "- reported dev 96.6\n",
    "- reported test 92.8\n",
    "- reproduced dev (average over 3 runs) : 0.9636 (0.0008)\n",
    "- reproduced test (average over 3 runs) : 0.9208 (0.0008)"
   ]
  },
  {
   "cell_type": "code",
   "execution_count": 1,
   "metadata": {},
   "outputs": [
    {
     "name": "stdout",
     "output_type": "stream",
     "text": [
      "1.4.0\n"
     ]
    }
   ],
   "source": [
    "import os\n",
    "os.environ[\"CUDA_VISIBLE_DEVICES\"] = \"2,3\"\n",
    "import torch\n",
    "print(torch.__version__)\n",
    "torch.manual_seed(1)\n",
    "torch.backends.cudnn.deterministic = True\n",
    "torch.backends.cudnn.benchmark = False\n",
    "import re\n",
    "import random\n",
    "random.seed(1)\n",
    "import numpy as np\n",
    "np.random.seed(1)\n",
    "from tqdm import tqdm\n",
    "from transformers import BertTokenizer\n",
    "from transformers import BertForTokenClassification\n",
    "from transformers import AdamW\n",
    "from transformers import get_linear_schedule_with_warmup\n",
    "from torch.utils.data import TensorDataset, DataLoader\n",
    "import torch.nn as nn\n",
    "from seqeval.metrics import f1_score\n",
    "import truecase\n",
    "device = torch.device('cuda' if torch.cuda.is_available() else 'cpu')"
   ]
  },
  {
   "cell_type": "code",
   "execution_count": 2,
   "metadata": {},
   "outputs": [],
   "source": [
    "max_seq_length = 128\n",
    "padding_index = -100\n",
    "batch_size = 16\n",
    "gradient_accumulation_step = 2\n",
    "learning_rate = 5e-5\n",
    "num_epochs = 5\n",
    "max_grad_norm = 1.0\n",
    "warm_up_proportion = 0.1"
   ]
  },
  {
   "cell_type": "code",
   "execution_count": 3,
   "metadata": {},
   "outputs": [],
   "source": [
    "conll03_labels = [\"O\", \"B-MISC\", \"I-MISC\", \"B-PER\", \"I-PER\", \"B-ORG\", \"I-ORG\", \"B-LOC\", \"I-LOC\"]\n",
    "conll03_labels_dict = {}\n",
    "for i in range(len(conll03_labels)):\n",
    "    conll03_labels_dict[conll03_labels[i]] = i"
   ]
  },
  {
   "cell_type": "code",
   "execution_count": 4,
   "metadata": {},
   "outputs": [],
   "source": [
    "tokenizer = BertTokenizer.from_pretrained(\"bert-large-cased\")\n",
    "cls_index = tokenizer.convert_tokens_to_ids(\"[CLS]\")\n",
    "sep_index = tokenizer.convert_tokens_to_ids(\"[SEP]\")\n",
    "pad_index = tokenizer.convert_tokens_to_ids(\"[PAD]\")"
   ]
  },
  {
   "cell_type": "code",
   "execution_count": 5,
   "metadata": {},
   "outputs": [],
   "source": [
    "def truecase_sentence(tokens):\n",
    "    previous_len = len(tokens)\n",
    "    word_lst = [(w, idx) for idx, w in enumerate(tokens) if all(c.isalpha() for c in w)]\n",
    "    lst = [w for w, _ in word_lst if re.match(r'\\b[A-Z]+\\b', w)]\n",
    "    if len(lst) and len(lst) == len(word_lst):\n",
    "        parts = truecase.get_true_case(' '.join(lst)).split()\n",
    "        if len(parts) != len(word_lst):\n",
    "            return tokens\n",
    "        for (w, idx), nw in zip(word_lst, parts):\n",
    "            tokens[idx] = nw\n",
    "    assert len(tokens) == previous_len\n",
    "    return tokens"
   ]
  },
  {
   "cell_type": "code",
   "execution_count": 6,
   "metadata": {},
   "outputs": [],
   "source": [
    "def process(input_file):\n",
    "    with open(input_file) as f:\n",
    "        lines = f.readlines()\n",
    "    input_ids = []\n",
    "    labels = []\n",
    "    cur_input_ids = []\n",
    "    cur_labels = []\n",
    "    for line in tqdm(lines):\n",
    "        if line.startswith(\"-DOCSTART-\") or len(line.strip()) == 0:\n",
    "            assert len(cur_input_ids) == len(cur_labels)\n",
    "            if len(cur_input_ids) != 0:\n",
    "                input_ids.append(cur_input_ids)\n",
    "                labels.append(cur_labels)\n",
    "                cur_input_ids = []\n",
    "                cur_labels = []\n",
    "        else:\n",
    "            splits = line.strip().split(\" \")\n",
    "            assert len(splits) == 4\n",
    "            cur_word = splits[0]\n",
    "            cur_label = splits[3]\n",
    "            cur_input_ids.append(cur_word)\n",
    "            cur_labels.append(cur_label)\n",
    "    assert len(cur_input_ids) == len(cur_labels)\n",
    "    if len(cur_input_ids) != 0:\n",
    "        input_ids.append(cur_input_ids)\n",
    "        labels.append(cur_labels)\n",
    "    for i in tqdm(range(len(input_ids))):\n",
    "        input_ids[i] = truecase_sentence(input_ids[i])\n",
    "        cur_input_ids = []\n",
    "        cur_labels = []\n",
    "        assert len(input_ids[i]) == len(labels[i])\n",
    "        for j in range(len(input_ids[i])):\n",
    "            cur_word = tokenizer.tokenize(input_ids[i][j])\n",
    "            cur_word = tokenizer.convert_tokens_to_ids(cur_word)\n",
    "            if len(cur_word) >= 1:\n",
    "                cur_input_ids.extend(cur_word)\n",
    "                cur_labels.extend([conll03_labels_dict[labels[i][j]]] + [padding_index] * (len(cur_word) - 1))\n",
    "        input_ids[i] = cur_input_ids\n",
    "        labels[i] = cur_labels\n",
    "    attention_mask = []\n",
    "    token_type_ids = []\n",
    "    for i in range(len(input_ids)):\n",
    "        if len(input_ids[i]) > max_seq_length - 2:\n",
    "            input_ids[i] = input_ids[i][:max_seq_length - 2]\n",
    "            labels[i] = labels[i][:max_seq_length - 2]\n",
    "        input_ids[i] = [cls_index] + input_ids[i] + [sep_index]\n",
    "        labels[i] = [padding_index] + labels[i] + [padding_index]\n",
    "        attention_mask.append([1] * len(input_ids[i]) + [0] * (max_seq_length - len(input_ids[i])))\n",
    "        token_type_ids.append([0] * max_seq_length)\n",
    "        labels[i] = labels[i] + [padding_index] * (max_seq_length - len(input_ids[i]))\n",
    "        input_ids[i] = input_ids[i] + [pad_index] * (max_seq_length - len(input_ids[i]))\n",
    "        if not len(input_ids[i]) == len(attention_mask[i]) == len(token_type_ids[i]) == len(labels[i]) == max_seq_length:\n",
    "            print(len(input_ids[i]), len(attention_mask[i]), len(token_type_ids[i]), len(labels[i]))\n",
    "    return input_ids, attention_mask, token_type_ids, labels"
   ]
  },
  {
   "cell_type": "code",
   "execution_count": 7,
   "metadata": {},
   "outputs": [
    {
     "name": "stderr",
     "output_type": "stream",
     "text": [
      "100%|██████████| 219554/219554 [00:00<00:00, 933531.17it/s]\n",
      "100%|██████████| 14041/14041 [00:08<00:00, 1625.48it/s]\n",
      "100%|██████████| 55044/55044 [00:00<00:00, 874711.18it/s]\n",
      "100%|██████████| 3250/3250 [00:01<00:00, 1759.61it/s]\n",
      "100%|██████████| 50350/50350 [00:00<00:00, 915592.35it/s]\n",
      "100%|██████████| 3453/3453 [00:01<00:00, 2021.46it/s]\n"
     ]
    }
   ],
   "source": [
    "train_input_ids, train_attention_mask, train_token_type_ids, train_labels = process(\"../conll_2003_kaggle/train.txt\")\n",
    "dev_input_ids, dev_attention_mask, dev_token_type_ids, dev_labels = process(\"../conll_2003_kaggle/dev.txt\")\n",
    "test_input_ids, test_attention_mask, test_token_type_ids, test_labels = process(\"../conll_2003_kaggle/test.txt\")"
   ]
  },
  {
   "cell_type": "code",
   "execution_count": 8,
   "metadata": {},
   "outputs": [
    {
     "name": "stdout",
     "output_type": "stream",
     "text": [
      "[101, 7270, 22961, 1528, 1840, 1106, 21423, 1418, 2495, 12913, 119, 102, 0, 0, 0, 0, 0, 0, 0, 0]\n",
      "[1, 1, 1, 1, 1, 1, 1, 1, 1, 1, 1, 1, 0, 0, 0, 0, 0, 0, 0, 0]\n",
      "[-100, 5, 0, 1, 0, 0, 0, 1, 0, -100, 0, -100, -100, -100, -100, -100, -100, -100, -100, -100]\n"
     ]
    }
   ],
   "source": [
    "print(train_input_ids[0][:20])\n",
    "print(train_attention_mask[0][:20])\n",
    "print(train_labels[0][:20])"
   ]
  },
  {
   "cell_type": "code",
   "execution_count": 9,
   "metadata": {},
   "outputs": [
    {
     "name": "stderr",
     "output_type": "stream",
     "text": [
      "Some weights of the model checkpoint at bert-large-cased were not used when initializing BertForTokenClassification: ['cls.predictions.bias', 'cls.predictions.transform.dense.weight', 'cls.predictions.transform.dense.bias', 'cls.predictions.decoder.weight', 'cls.seq_relationship.weight', 'cls.seq_relationship.bias', 'cls.predictions.transform.LayerNorm.weight', 'cls.predictions.transform.LayerNorm.bias']\n",
      "- This IS expected if you are initializing BertForTokenClassification from the checkpoint of a model trained on another task or with another architecture (e.g. initializing a BertForSequenceClassification model from a BertForPretraining model).\n",
      "- This IS NOT expected if you are initializing BertForTokenClassification from the checkpoint of a model that you expect to be exactly identical (initializing a BertForSequenceClassification model from a BertForSequenceClassification model).\n",
      "Some weights of BertForTokenClassification were not initialized from the model checkpoint at bert-large-cased and are newly initialized: ['classifier.weight', 'classifier.bias']\n",
      "You should probably TRAIN this model on a down-stream task to be able to use it for predictions and inference.\n"
     ]
    }
   ],
   "source": [
    "model = BertForTokenClassification.from_pretrained(\"bert-large-cased\", num_labels=len(conll03_labels))\n",
    "model = torch.nn.DataParallel(model)\n",
    "model.to(device);"
   ]
  },
  {
   "cell_type": "code",
   "execution_count": 10,
   "metadata": {},
   "outputs": [],
   "source": [
    "train_input_ids = torch.tensor(train_input_ids, dtype=torch.long)\n",
    "train_attention_mask = torch.tensor(train_attention_mask, dtype=torch.long)\n",
    "train_token_type_ids = torch.tensor(train_token_type_ids, dtype=torch.long)\n",
    "train_labels = torch.tensor(train_labels, dtype=torch.long)\n",
    "dev_input_ids = torch.tensor(dev_input_ids, dtype=torch.long)\n",
    "dev_attention_mask = torch.tensor(dev_attention_mask, dtype=torch.long)\n",
    "dev_token_type_ids = torch.tensor(dev_token_type_ids, dtype=torch.long)\n",
    "dev_labels = torch.tensor(dev_labels, dtype=torch.long)\n",
    "test_input_ids = torch.tensor(test_input_ids, dtype=torch.long)\n",
    "test_attention_mask = torch.tensor(test_attention_mask, dtype=torch.long)\n",
    "test_token_type_ids = torch.tensor(test_token_type_ids, dtype=torch.long)\n",
    "test_labels = torch.tensor(test_labels, dtype=torch.long)"
   ]
  },
  {
   "cell_type": "code",
   "execution_count": 11,
   "metadata": {},
   "outputs": [],
   "source": [
    "train_data = TensorDataset(train_input_ids, train_attention_mask, train_token_type_ids, train_labels)\n",
    "train_loader = DataLoader(train_data, batch_size=batch_size, shuffle=True)\n",
    "dev_data = TensorDataset(dev_input_ids, dev_attention_mask, dev_token_type_ids, dev_labels)\n",
    "dev_loader = DataLoader(dev_data, batch_size=batch_size, shuffle=False)\n",
    "test_data = TensorDataset(test_input_ids, test_attention_mask, test_token_type_ids, test_labels)\n",
    "test_loader = DataLoader(test_data, batch_size=batch_size, shuffle=False)"
   ]
  },
  {
   "cell_type": "code",
   "execution_count": 12,
   "metadata": {},
   "outputs": [
    {
     "name": "stdout",
     "output_type": "stream",
     "text": [
      "Epoch [1/5], Step [50/878], Loss: 0.5669\n",
      "Epoch [1/5], Step [100/878], Loss: 0.1903\n",
      "Epoch [1/5], Step [150/878], Loss: 0.1055\n",
      "Epoch [1/5], Step [200/878], Loss: 0.0564\n",
      "Epoch [1/5], Step [250/878], Loss: 0.0630\n",
      "Epoch [1/5], Step [300/878], Loss: 0.0123\n",
      "Epoch [1/5], Step [350/878], Loss: 0.0162\n",
      "Epoch [1/5], Step [400/878], Loss: 0.0270\n",
      "Epoch [1/5], Step [450/878], Loss: 0.0083\n",
      "Epoch [1/5], Step [500/878], Loss: 0.1168\n",
      "Epoch [1/5], Step [550/878], Loss: 0.0446\n",
      "Epoch [1/5], Step [600/878], Loss: 0.0189\n",
      "Epoch [1/5], Step [650/878], Loss: 0.0856\n",
      "Epoch [1/5], Step [700/878], Loss: 0.0556\n",
      "Epoch [1/5], Step [750/878], Loss: 0.0251\n",
      "Epoch [1/5], Step [800/878], Loss: 0.0150\n",
      "Epoch [1/5], Step [850/878], Loss: 0.0197\n",
      "dev_score:  0.9456228956228956\n",
      "test_score:  0.9090588027547236\n",
      "Epoch [2/5], Step [50/878], Loss: 0.0081\n",
      "Epoch [2/5], Step [100/878], Loss: 0.0068\n",
      "Epoch [2/5], Step [150/878], Loss: 0.0125\n",
      "Epoch [2/5], Step [200/878], Loss: 0.0254\n",
      "Epoch [2/5], Step [250/878], Loss: 0.0016\n",
      "Epoch [2/5], Step [300/878], Loss: 0.0054\n",
      "Epoch [2/5], Step [350/878], Loss: 0.0082\n",
      "Epoch [2/5], Step [400/878], Loss: 0.0026\n",
      "Epoch [2/5], Step [450/878], Loss: 0.0210\n",
      "Epoch [2/5], Step [500/878], Loss: 0.0099\n",
      "Epoch [2/5], Step [550/878], Loss: 0.0145\n",
      "Epoch [2/5], Step [600/878], Loss: 0.0486\n",
      "Epoch [2/5], Step [650/878], Loss: 0.0103\n",
      "Epoch [2/5], Step [700/878], Loss: 0.0009\n",
      "Epoch [2/5], Step [750/878], Loss: 0.0017\n",
      "Epoch [2/5], Step [800/878], Loss: 0.0012\n",
      "Epoch [2/5], Step [850/878], Loss: 0.0020\n",
      "dev_score:  0.9583752937227258\n",
      "test_score:  0.9087395696091348\n",
      "Epoch [3/5], Step [50/878], Loss: 0.0115\n",
      "Epoch [3/5], Step [100/878], Loss: 0.0104\n",
      "Epoch [3/5], Step [150/878], Loss: 0.0078\n",
      "Epoch [3/5], Step [200/878], Loss: 0.0150\n",
      "Epoch [3/5], Step [250/878], Loss: 0.0003\n",
      "Epoch [3/5], Step [300/878], Loss: 0.0005\n",
      "Epoch [3/5], Step [350/878], Loss: 0.0004\n",
      "Epoch [3/5], Step [400/878], Loss: 0.0014\n",
      "Epoch [3/5], Step [450/878], Loss: 0.0215\n",
      "Epoch [3/5], Step [500/878], Loss: 0.0040\n",
      "Epoch [3/5], Step [550/878], Loss: 0.0008\n",
      "Epoch [3/5], Step [600/878], Loss: 0.0016\n",
      "Epoch [3/5], Step [650/878], Loss: 0.0003\n",
      "Epoch [3/5], Step [700/878], Loss: 0.0005\n",
      "Epoch [3/5], Step [750/878], Loss: 0.0009\n",
      "Epoch [3/5], Step [800/878], Loss: 0.0095\n",
      "Epoch [3/5], Step [850/878], Loss: 0.0006\n",
      "dev_score:  0.9593482277843104\n",
      "test_score:  0.9156266479170329\n",
      "Epoch [4/5], Step [50/878], Loss: 0.0014\n",
      "Epoch [4/5], Step [100/878], Loss: 0.0002\n",
      "Epoch [4/5], Step [150/878], Loss: 0.0051\n",
      "Epoch [4/5], Step [200/878], Loss: 0.0148\n",
      "Epoch [4/5], Step [250/878], Loss: 0.0148\n",
      "Epoch [4/5], Step [300/878], Loss: 0.0002\n",
      "Epoch [4/5], Step [350/878], Loss: 0.0139\n",
      "Epoch [4/5], Step [400/878], Loss: 0.0124\n",
      "Epoch [4/5], Step [450/878], Loss: 0.0002\n",
      "Epoch [4/5], Step [500/878], Loss: 0.0005\n",
      "Epoch [4/5], Step [550/878], Loss: 0.0003\n",
      "Epoch [4/5], Step [600/878], Loss: 0.0002\n",
      "Epoch [4/5], Step [650/878], Loss: 0.0022\n",
      "Epoch [4/5], Step [700/878], Loss: 0.0003\n",
      "Epoch [4/5], Step [750/878], Loss: 0.0003\n",
      "Epoch [4/5], Step [800/878], Loss: 0.0109\n",
      "Epoch [4/5], Step [850/878], Loss: 0.0013\n",
      "dev_score:  0.9627883482067688\n",
      "test_score:  0.9162405219538001\n",
      "Epoch [5/5], Step [50/878], Loss: 0.0003\n",
      "Epoch [5/5], Step [100/878], Loss: 0.0006\n",
      "Epoch [5/5], Step [150/878], Loss: 0.0001\n",
      "Epoch [5/5], Step [200/878], Loss: 0.0001\n",
      "Epoch [5/5], Step [250/878], Loss: 0.0001\n",
      "Epoch [5/5], Step [300/878], Loss: 0.0201\n",
      "Epoch [5/5], Step [350/878], Loss: 0.0002\n",
      "Epoch [5/5], Step [400/878], Loss: 0.0021\n",
      "Epoch [5/5], Step [450/878], Loss: 0.0003\n",
      "Epoch [5/5], Step [500/878], Loss: 0.0001\n",
      "Epoch [5/5], Step [550/878], Loss: 0.0002\n",
      "Epoch [5/5], Step [600/878], Loss: 0.0001\n",
      "Epoch [5/5], Step [650/878], Loss: 0.0003\n",
      "Epoch [5/5], Step [700/878], Loss: 0.0001\n",
      "Epoch [5/5], Step [750/878], Loss: 0.0001\n",
      "Epoch [5/5], Step [800/878], Loss: 0.0001\n",
      "Epoch [5/5], Step [850/878], Loss: 0.0001\n",
      "dev_score:  0.964276708413886\n",
      "test_score:  0.9212121212121213\n"
     ]
    }
   ],
   "source": [
    "dev_scores = []\n",
    "test_scores = []\n",
    "# param_optimizer = list(model.named_parameters())\n",
    "# no_decay = ['bias','LayerNorm.weight']\n",
    "# optimizer_grouped_parameters = [\n",
    "#     {'params': [p for n, p in param_optimizer if not any(nd in n for nd in no_decay)], 'weight_decay': 0.01},\n",
    "#     {'params': [p for n, p in param_optimizer if any(nd in n for nd in no_decay)], 'weight_decay': 0.0}\n",
    "#     ]\n",
    "# optimizer = AdamW(optimizer_grouped_parameters, lr=learning_rate, eps=1e-8)\n",
    "optimizer = AdamW(model.parameters(), lr=learning_rate, eps=1e-8)\n",
    "scheduler = get_linear_schedule_with_warmup(\n",
    "                optimizer, num_warmup_steps=int(len(train_loader) * num_epochs * warm_up_proportion // gradient_accumulation_step),\n",
    "                num_training_steps=len(train_loader) * num_epochs // gradient_accumulation_step)\n",
    "total_step = len(train_loader)\n",
    "for epoch in range(num_epochs):\n",
    "    model.train()\n",
    "    model.zero_grad()\n",
    "    for i, (cur_input_ids, cur_attention_mask, cur_token_type_ids, cur_labels) in enumerate(train_loader):\n",
    "        cur_input_ids = cur_input_ids.to(device)\n",
    "        cur_attention_mask = cur_attention_mask.to(device)\n",
    "        cur_token_type_ids = cur_token_type_ids.to(device)\n",
    "        cur_labels = cur_labels.to(device)\n",
    "        outputs = model(cur_input_ids, cur_attention_mask, cur_token_type_ids)\n",
    "        loss = nn.CrossEntropyLoss(ignore_index=-100)(outputs[0].view(-1, len(conll03_labels)), cur_labels.view(-1))\n",
    "        loss /= gradient_accumulation_step\n",
    "        loss.backward()\n",
    "        if (i + 1) % gradient_accumulation_step == 0:\n",
    "            nn.utils.clip_grad_norm_(model.parameters(), max_grad_norm)\n",
    "            optimizer.step()\n",
    "            scheduler.step()\n",
    "            model.zero_grad()\n",
    "        if (i + 1) % 50 == 0:\n",
    "            print ('Epoch [{}/{}], Step [{}/{}], Loss: {:.4f}'\n",
    "                   .format(epoch + 1, num_epochs, i + 1, total_step, loss.item()))\n",
    "    model.eval()\n",
    "    dev_y_true = []\n",
    "    dev_y_pred = []\n",
    "    with torch.no_grad():\n",
    "        for i, (cur_input_ids, cur_attention_mask, cur_token_type_ids, cur_labels) in enumerate(dev_loader):\n",
    "            cur_input_ids = cur_input_ids.to(device)\n",
    "            cur_attention_mask = cur_attention_mask.to(device)\n",
    "            cur_token_type_ids = cur_token_type_ids.to(device)\n",
    "            cur_labels = cur_labels.to(device)\n",
    "            outputs = model(cur_input_ids, cur_attention_mask, cur_token_type_ids)\n",
    "            _, predicted = torch.max(outputs[0], 2)\n",
    "            dev_y_true.extend(list(np.array(cur_labels.view(-1).cpu())))\n",
    "            dev_y_pred.extend(list(np.array(predicted.view(-1).cpu())))\n",
    "    dev_y_pred = list(np.array(conll03_labels)[np.array(dev_y_pred)[np.array(dev_y_true) != -100]])\n",
    "    dev_y_true = list(np.array(conll03_labels)[np.array(dev_y_true)[np.array(dev_y_true) != -100]])\n",
    "    print(\"dev_score: \", f1_score(dev_y_pred, dev_y_true))\n",
    "    dev_scores.append(f1_score(dev_y_pred, dev_y_true))\n",
    "    test_y_true = []\n",
    "    test_y_pred = []\n",
    "    with torch.no_grad():\n",
    "        for i, (cur_input_ids, cur_attention_mask, cur_token_type_ids, cur_labels) in enumerate(test_loader):\n",
    "            cur_input_ids = cur_input_ids.to(device)\n",
    "            cur_attention_mask = cur_attention_mask.to(device)\n",
    "            cur_token_type_ids = cur_token_type_ids.to(device)\n",
    "            cur_labels = cur_labels.to(device)\n",
    "            outputs = model(cur_input_ids, cur_attention_mask, cur_token_type_ids)\n",
    "            _, predicted = torch.max(outputs[0], 2)\n",
    "            test_y_true.extend(list(np.array(cur_labels.view(-1).cpu())))\n",
    "            test_y_pred.extend(list(np.array(predicted.view(-1).cpu())))\n",
    "    test_y_pred = list(np.array(conll03_labels)[np.array(test_y_pred)[np.array(test_y_true) != -100]])\n",
    "    test_y_true = list(np.array(conll03_labels)[np.array(test_y_true)[np.array(test_y_true) != -100]])\n",
    "    print(\"test_score: \", f1_score(test_y_pred, test_y_true))\n",
    "    test_scores.append(f1_score(test_y_pred, test_y_true))"
   ]
  },
  {
   "cell_type": "code",
   "execution_count": 13,
   "metadata": {},
   "outputs": [
    {
     "name": "stdout",
     "output_type": "stream",
     "text": [
      "4 0.964276708413886 0.9212121212121213\n"
     ]
    }
   ],
   "source": [
    "print(np.argmax(dev_scores), dev_scores[np.argmax(dev_scores)], test_scores[np.argmax(dev_scores)])"
   ]
  }
 ],
 "metadata": {
  "kernelspec": {
   "display_name": "qhmtorch14",
   "language": "python",
   "name": "qhmtorch14"
  },
  "language_info": {
   "codemirror_mode": {
    "name": "ipython",
    "version": 3
   },
   "file_extension": ".py",
   "mimetype": "text/x-python",
   "name": "python",
   "nbconvert_exporter": "python",
   "pygments_lexer": "ipython3",
   "version": "3.7.9"
  }
 },
 "nbformat": 4,
 "nbformat_minor": 2
}
